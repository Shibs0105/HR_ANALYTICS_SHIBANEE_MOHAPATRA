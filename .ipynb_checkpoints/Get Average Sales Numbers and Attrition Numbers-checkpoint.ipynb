{
 "cells": [
  {
   "cell_type": "code",
   "execution_count": 1,
   "id": "d394f45c-d46f-435a-8277-2f7555689484",
   "metadata": {},
   "outputs": [
    {
     "name": "stdout",
     "output_type": "stream",
     "text": [
      "Average Sales Number and Attrition Number by Recruiting Source:\n",
      "                   sales_quota_pct  attrition\n",
      "recruiting_source                            \n",
      "Applied Online            1.058590   0.246154\n",
      "Campus                    0.908035   0.285714\n",
      "Referral                  1.023198   0.333333\n",
      "Search Firm               0.886960   0.500000\n"
     ]
    }
   ],
   "source": [
    "import pandas as pd\n",
    "\n",
    "# Read the data from CSV to a DataFrame\n",
    "recruitment_data = pd.read_csv('recruitment_data.csv')\n",
    "\n",
    "# Group by 'Recruiting Source' and calculate the average Sales Number and Attrition Number\n",
    "average_sales_attrition = recruitment_data.groupby('recruiting_source').agg({'sales_quota_pct': 'mean', 'attrition': 'mean'})\n",
    "\n",
    "# Print out the average Sales Number and Attrition Number\n",
    "print(\"Average Sales Number and Attrition Number by Recruiting Source:\")\n",
    "print(average_sales_attrition)\n"
   ]
  },
  {
   "cell_type": "code",
   "execution_count": null,
   "id": "d7ba15db-5aab-45c2-8195-83ffd823ccc1",
   "metadata": {},
   "outputs": [],
   "source": []
  }
 ],
 "metadata": {
  "kernelspec": {
   "display_name": "Python 3 (ipykernel)",
   "language": "python",
   "name": "python3"
  },
  "language_info": {
   "codemirror_mode": {
    "name": "ipython",
    "version": 3
   },
   "file_extension": ".py",
   "mimetype": "text/x-python",
   "name": "python",
   "nbconvert_exporter": "python",
   "pygments_lexer": "ipython3",
   "version": "3.11.7"
  }
 },
 "nbformat": 4,
 "nbformat_minor": 5
}
