{
 "cells": [
  {
   "cell_type": "code",
   "execution_count": 1,
   "id": "2b1e2c56-9cb8-4fef-95ac-36c5d67bbc5d",
   "metadata": {},
   "outputs": [
    {
     "name": "stdout",
     "output_type": "stream",
     "text": [
      "   attrition  performance_rating  sales_quota_pct recruiting_source\n",
      "0          1                   3         1.088190    Applied Online\n",
      "1          0                   3         2.394173               NaN\n",
      "2          1                   2         0.497530            Campus\n",
      "3          0                   2         2.513958               NaN\n",
      "4          0                   3         1.424789    Applied Online\n",
      "Index(['attrition', 'performance_rating', 'sales_quota_pct',\n",
      "       'recruiting_source'],\n",
      "      dtype='object')\n"
     ]
    }
   ],
   "source": [
    "# Import necessary packages\n",
    "import pandas as pd\n",
    "from plotnine import ggplot, aes, geom_bar\n",
    "\n",
    "# Read the data from CSV to a DataFrame\n",
    "recruitment_data = pd.read_csv('recruitment_data.csv')\n",
    "\n",
    "# Take a closer look at the data using the head() function\n",
    "print(recruitment_data.head())\n",
    "\n",
    "# Check the columns to ensure they are as expected\n",
    "print(recruitment_data.columns)"
   ]
  }
 ],
 "metadata": {
  "kernelspec": {
   "display_name": "Python 3 (ipykernel)",
   "language": "python",
   "name": "python3"
  },
  "language_info": {
   "codemirror_mode": {
    "name": "ipython",
    "version": 3
   },
   "file_extension": ".py",
   "mimetype": "text/x-python",
   "name": "python",
   "nbconvert_exporter": "python",
   "pygments_lexer": "ipython3",
   "version": "3.11.7"
  }
 },
 "nbformat": 4,
 "nbformat_minor": 5
}
